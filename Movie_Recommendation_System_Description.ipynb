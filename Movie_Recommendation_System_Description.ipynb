{
  "nbformat": 4,
  "nbformat_minor": 0,
  "metadata": {
    "colab": {
      "provenance": [],
      "gpuType": "T4"
    },
    "kernelspec": {
      "name": "python3",
      "display_name": "Python 3"
    },
    "language_info": {
      "name": "python"
    },
    "accelerator": "GPU"
  },
  "cells": [
    {
      "cell_type": "code",
      "execution_count": 1,
      "metadata": {
        "colab": {
          "base_uri": "https://localhost:8080/"
        },
        "id": "_Z3iSy0j3YvZ",
        "outputId": "b82297fe-3340-4722-e212-0a8cc4eb6f19"
      },
      "outputs": [
        {
          "output_type": "stream",
          "name": "stdout",
          "text": [
            "Downloading from https://www.kaggle.com/api/v1/datasets/download/prajitdatta/movielens-100k-dataset?dataset_version_number=1...\n"
          ]
        },
        {
          "output_type": "stream",
          "name": "stderr",
          "text": [
            "100%|██████████| 4.77M/4.77M [00:00<00:00, 6.65MB/s]"
          ]
        },
        {
          "output_type": "stream",
          "name": "stdout",
          "text": [
            "Extracting files...\n"
          ]
        },
        {
          "output_type": "stream",
          "name": "stderr",
          "text": [
            "\n"
          ]
        },
        {
          "output_type": "stream",
          "name": "stdout",
          "text": [
            "Path to dataset files: /root/.cache/kagglehub/datasets/prajitdatta/movielens-100k-dataset/versions/1\n"
          ]
        }
      ],
      "source": [
        "import kagglehub\n",
        "\n",
        "# Download latest version\n",
        "path = kagglehub.dataset_download(\"prajitdatta/movielens-100k-dataset\")\n",
        "\n",
        "print(\"Path to dataset files:\", path)"
      ]
    },
    {
      "cell_type": "code",
      "source": [
        "import pandas as pd\n",
        "import numpy as np\n",
        "from pathlib import Path\n",
        "from sklearn.metrics.pairwise import cosine_similarity\n",
        "from scipy.sparse.linalg import svds\n",
        "\n",
        "DATA_DIR = Path(\"/root/.cache/kagglehub/datasets/prajitdatta/movielens-100k-dataset/versions/1/ml-100k\")          # unzip the 100K archive here\n",
        "u_cols = ['user_id','age','gender','occupation','zip']\n",
        "users  = pd.read_csv(DATA_DIR / \"u.user\", sep='|', names=u_cols)\n",
        "\n",
        "r_cols = ['user_id','movie_id','rating','timestamp']\n",
        "ratings = pd.read_csv(DATA_DIR / \"u.data\", sep='\\t', names=r_cols)\n",
        "\n",
        "m_cols = ['movie_id','title','release_date','video_release_date','imdb_url']\n",
        "movies = pd.read_csv(DATA_DIR / \"u.item\", sep='|', encoding='latin-1', usecols=range(5), names=m_cols)"
      ],
      "metadata": {
        "id": "acvw1RuUDHck"
      },
      "execution_count": 2,
      "outputs": []
    },
    {
      "cell_type": "code",
      "source": [
        "user_item = ratings.pivot(index='user_id', columns='movie_id', values='rating')\n",
        "user_item = user_item.fillna(0)      # unseen = 0"
      ],
      "metadata": {
        "id": "dafoj_JZDoUk"
      },
      "execution_count": 3,
      "outputs": []
    },
    {
      "cell_type": "code",
      "source": [
        "def user_based_recommend(user_id, k_users=50, top_n=10):\n",
        "    \"\"\"Return top-N unseen movies for user_id using user-user CF.\"\"\"\n",
        "    user_sim = cosine_similarity(user_item)\n",
        "    sim_df   = pd.DataFrame(user_sim,\n",
        "                            index=user_item.index,\n",
        "                            columns=user_item.index)\n",
        "\n",
        "    # neighbours: most similar users (exclude self)\n",
        "    neighbours = sim_df[user_id].drop(user_id).sort_values(ascending=False)[:k_users]\n",
        "\n",
        "    # weighted sum of neighbour ratings\n",
        "    neighbour_ratings = user_item.loc[neighbours.index]\n",
        "    weighted = neighbour_ratings.T.dot(neighbours) / neighbours.sum()\n",
        "\n",
        "    # mask already-seen movies\n",
        "    already_seen = user_item.loc[user_id] > 0\n",
        "    recs = weighted[~already_seen].sort_values(ascending=False).head(top_n)\n",
        "    return recs.index.to_list()"
      ],
      "metadata": {
        "id": "xIO2rwRbDqhC"
      },
      "execution_count": 4,
      "outputs": []
    },
    {
      "cell_type": "code",
      "source": [
        "def precision_at_k(user_id, k_rec=10, k_test=10):\n",
        "    \"\"\"Compute precision@k_rec for one user.\"\"\"\n",
        "    # hidden test set = user's last k_test ratings chronologically\n",
        "    user_ratings = ratings[ratings.user_id == user_id].sort_values('timestamp')\n",
        "    if len(user_ratings) < k_test:\n",
        "        return None\n",
        "    test_movies = user_ratings.movie_id.iloc[-k_test:].values\n",
        "\n",
        "    # recommend\n",
        "    rec_movies = user_based_recommend(user_id, top_n=k_rec)\n",
        "\n",
        "    # precision\n",
        "    hits = len(set(rec_movies) & set(test_movies))\n",
        "    return hits / k_rec\n",
        "\n",
        "# Average precision across 200 random users\n",
        "import random\n",
        "sample_users = random.sample(list(ratings.user_id.unique()), 200)\n",
        "precisions = [precision_at_k(u) for u in sample_users]\n",
        "avg_precision = np.nanmean(precisions)\n",
        "print(\"Average precision@10 =\", round(avg_precision, 3))"
      ],
      "metadata": {
        "colab": {
          "base_uri": "https://localhost:8080/"
        },
        "id": "sBbwPiVeDstC",
        "outputId": "bbc6d429-3b06-4c4f-e40c-e3f963edb24f"
      },
      "execution_count": 5,
      "outputs": [
        {
          "output_type": "stream",
          "name": "stdout",
          "text": [
            "Average precision@10 = 0.0\n"
          ]
        }
      ]
    },
    {
      "cell_type": "code",
      "source": [
        "def item_based_recommend(user_id, k_items=30, top_n=10):\n",
        "    item_sim = cosine_similarity(user_item.T)\n",
        "    sim_item_df = pd.DataFrame(item_sim,\n",
        "                               index=movies.movie_id,\n",
        "                               columns=movies.movie_id)\n",
        "\n",
        "    user_ratings = user_item.loc[user_id]\n",
        "    rated = user_ratings[user_ratings > 0]\n",
        "\n",
        "    # aggregate similarity scores\n",
        "    scores = pd.Series(dtype='float64')\n",
        "    for m, r in rated.items():\n",
        "        sims = sim_item_df[m].drop(m)\n",
        "        scores = scores.add(sims * r, fill_value=0)\n",
        "\n",
        "    already_seen = user_ratings > 0\n",
        "    recs = scores[~already_seen].sort_values(ascending=False).head(top_n)\n",
        "    return recs.index.to_list()"
      ],
      "metadata": {
        "id": "xLtjENbgDxYI"
      },
      "execution_count": 6,
      "outputs": []
    },
    {
      "cell_type": "code",
      "source": [
        "def svd_recommend(user_id, k_latent=50, top_n=10):\n",
        "    # center matrix\n",
        "    R = user_item.values\n",
        "    user_mean = np.mean(R, axis=1)\n",
        "    R_demean = R - user_mean.reshape(-1, 1)\n",
        "\n",
        "    # perform SVD\n",
        "    U, sigma, Vt = svds(R_demean, k=k_latent)\n",
        "    sigma = np.diag(sigma)\n",
        "    pred = np.dot(np.dot(U, sigma), Vt) + user_mean.reshape(-1, 1)\n",
        "    preds_df = pd.DataFrame(pred, index=user_item.index, columns=user_item.columns)\n",
        "\n",
        "    # unseen mask\n",
        "    unseen = user_item.loc[user_id] == 0\n",
        "    recs = preds_df.loc[user_id][unseen].sort_values(ascending=False).head(top_n)\n",
        "    return recs.index.to_list()"
      ],
      "metadata": {
        "id": "vCWZGjYhDyi0"
      },
      "execution_count": 7,
      "outputs": []
    },
    {
      "cell_type": "code",
      "source": [
        "def show_titles(movie_ids):\n",
        "    return movies.set_index('movie_id').loc[movie_ids]['title'].tolist()\n",
        "\n",
        "user = 196\n",
        "print(\"User-based :\", show_titles(user_based_recommend(user)))\n",
        "print(\"Item-based :\", show_titles(item_based_recommend(user)))\n",
        "print(\"SVD        :\", show_titles(svd_recommend(user)))"
      ],
      "metadata": {
        "colab": {
          "base_uri": "https://localhost:8080/"
        },
        "id": "gvMW2OjMOpfR",
        "outputId": "91f971d3-4de7-49eb-d138-86d1bed07aa2"
      },
      "execution_count": 8,
      "outputs": [
        {
          "output_type": "stream",
          "name": "stdout",
          "text": [
            "User-based : ['Fargo (1996)', 'Star Wars (1977)', 'When Harry Met Sally... (1989)', 'Back to the Future (1985)', 'Pulp Fiction (1994)', 'Silence of the Lambs, The (1991)', 'Amadeus (1984)', 'Sense and Sensibility (1995)', 'Jerry Maguire (1996)', 'Indiana Jones and the Last Crusade (1989)']\n",
            "Item-based : ['Back to the Future (1985)', 'When Harry Met Sally... (1989)', 'Star Wars (1977)', 'Raiders of the Lost Ark (1981)', 'Monty Python and the Holy Grail (1974)', 'Fargo (1996)', 'Amadeus (1984)', 'Forrest Gump (1994)', 'Silence of the Lambs, The (1991)', 'Pulp Fiction (1994)']\n",
            "SVD        : ['When Harry Met Sally... (1989)', 'Back to the Future (1985)', 'Grease (1978)', 'Dave (1993)', 'Sleepless in Seattle (1993)', 'Postino, Il (1994)', 'Sabrina (1995)', 'M*A*S*H (1970)', 'Clueless (1995)', \"Ulee's Gold (1997)\"]\n"
          ]
        }
      ]
    }
  ]
}